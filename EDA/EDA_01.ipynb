{
 "cells": [
  {
   "cell_type": "code",
   "execution_count": null,
   "metadata": {},
   "outputs": [],
   "source": [
    "import pandas as pd\n",
    "import matplotlib.pyplot as plt\n",
    "import seaborn as sns\n",
    "from sklearn.model_selection import  train_test_split\n",
    "from sklearn.preprocessing import StandardScaler\n",
    "import numpy as np\n",
    "from statsmodels.stats.outliers_influence import variance_inflation_factor\n",
    "from sklearn.decomposition import PCA\n",
    "from sklearn.model_selection import train_test_split\n",
    "from sklearn.linear_model import LinearRegression\n",
    "from sklearn.metrics import mean_squared_error, r2_score\n",
    "from scipy.stats import boxcox\n",
    "\n",
    "\n",
    "\n",
    "# Read the dataset file\n",
    "df = pd.read_excel('Real estate valuation data set.xlsx')\n",
    "\n",
    "# Perform analysis on the dataset\n",
    "# ..."
   ]
  },
  {
   "cell_type": "code",
   "execution_count": null,
   "metadata": {},
   "outputs": [],
   "source": [
    "df.head()"
   ]
  },
  {
   "cell_type": "code",
   "execution_count": null,
   "metadata": {},
   "outputs": [],
   "source": [
    "df.info()"
   ]
  },
  {
   "cell_type": "code",
   "execution_count": null,
   "metadata": {},
   "outputs": [],
   "source": [
    "print(df.isnull().sum())"
   ]
  },
  {
   "cell_type": "code",
   "execution_count": null,
   "metadata": {},
   "outputs": [],
   "source": [
    "print(df.describe())"
   ]
  },
  {
   "cell_type": "code",
   "execution_count": null,
   "metadata": {},
   "outputs": [],
   "source": [
    "df.hist(bins=30, figsize=(12,8))\n",
    "plt.show()"
   ]
  },
  {
   "cell_type": "code",
   "execution_count": null,
   "metadata": {},
   "outputs": [],
   "source": [
    "plt.figure(figsize=(12,6))\n",
    "sns.boxplot(data=df, width=0.5)\n",
    "plt.xticks(rotation=45)\n",
    "plt.show()"
   ]
  },
  {
   "cell_type": "code",
   "execution_count": null,
   "metadata": {},
   "outputs": [],
   "source": [
    "correlation_matrix = df.corr()\n",
    "\n",
    "plt.figure(figsize=(10,8))\n",
    "sns.heatmap(correlation_matrix, annot=True, cmap='coolwarm',fmt='.2f')\n",
    "plt.title(\"Correlation matrix\")\n",
    "plt.show()"
   ]
  },
  {
   "cell_type": "code",
   "execution_count": null,
   "metadata": {},
   "outputs": [],
   "source": [
    "target_column = 'Y house price of unit area'\n",
    "\n",
    "features = [\"X2 house age\", \"X3 distance to the nearest MRT station\", \"X4 number of convenience stores\"]\n",
    "for feature in features:\n",
    "    plt.figure(figsize=(10,6))\n",
    "    sns.scatterplot(data=df, x=feature, y=target_column)\n",
    "    plt.title(f\"{feature} vs {target_column}\")\n",
    "    plt.show()"
   ]
  },
  {
   "cell_type": "code",
   "execution_count": null,
   "metadata": {},
   "outputs": [],
   "source": [
    "df.to_csv('real_estate.csv', index=False)"
   ]
  },
  {
   "cell_type": "code",
   "execution_count": null,
   "metadata": {},
   "outputs": [],
   "source": [
    "df = df.drop(columns=['No', 'X1 transaction date'])"
   ]
  },
  {
   "cell_type": "code",
   "execution_count": null,
   "metadata": {},
   "outputs": [],
   "source": [
    "X = df.drop(columns=['Y house price of unit area'])\n",
    "y = df['Y house price of unit area']"
   ]
  },
  {
   "cell_type": "code",
   "execution_count": null,
   "metadata": {},
   "outputs": [],
   "source": [
    "X_train,X_test,y_train,y_test = train_test_split(X,y,test_size=0.2,random_state=42)"
   ]
  },
  {
   "cell_type": "code",
   "execution_count": null,
   "metadata": {},
   "outputs": [],
   "source": [
    "scaler = StandardScaler()\n",
    "X_train_scaled = scaler.fit_transform(X_train)\n",
    "X_test_scaled = scaler.transform(X_test)"
   ]
  },
  {
   "cell_type": "code",
   "execution_count": null,
   "metadata": {},
   "outputs": [],
   "source": [
    "X_train = pd.DataFrame(X_train_scaled, columns=X.columns)\n",
    "X_test = pd.DataFrame(X_test_scaled, columns=X.columns)"
   ]
  },
  {
   "cell_type": "code",
   "execution_count": null,
   "metadata": {},
   "outputs": [],
   "source": [
    "# Histplot of X3 distance to the nearest MRT station\n",
    "import seaborn as sns\n",
    "import matplotlib.pyplot as plt\n",
    "\n",
    "sns.histplot(df[\"X3 distance to the nearest MRT station\"], kde=True, bins=30)\n",
    "plt.title(\"Distribution of X3 Distance to MRT\")\n",
    "plt.show()\n"
   ]
  },
  {
   "cell_type": "code",
   "execution_count": null,
   "metadata": {},
   "outputs": [],
   "source": [
    "\n",
    "\n",
    "df[\"X3_log\"] = np.log1p(df[\"X3 distance to the nearest MRT station\"])  # log(1+x) to handle zero values\n"
   ]
  },
  {
   "cell_type": "code",
   "execution_count": null,
   "metadata": {},
   "outputs": [],
   "source": [
    "\n",
    "\n",
    "sns.histplot(df[\"X3_log\"], kde=True, bins=30)\n",
    "plt.title(\"Log-Transformed Distribution of X3 Distance to MRT\")\n",
    "plt.show()\n"
   ]
  },
  {
   "cell_type": "code",
   "execution_count": null,
   "metadata": {},
   "outputs": [],
   "source": [
    "df[['X3_log', 'Y house price of unit area']].corr()\n"
   ]
  },
  {
   "cell_type": "code",
   "execution_count": null,
   "metadata": {},
   "outputs": [],
   "source": [
    "# High negative correlation between X3_log and Y house price of unit area indicates the price increases as the distance to the nearest MRT station decreases"
   ]
  },
  {
   "cell_type": "code",
   "execution_count": null,
   "metadata": {},
   "outputs": [],
   "source": [
    "# Scatter plot with regression line\n",
    "plt.figure(figsize=(8, 6))\n",
    "sns.regplot(x=df[\"X3_log\"], y=df[\"Y house price of unit area\"], scatter_kws={\"alpha\": 0.5}, line_kws={\"color\": \"red\"})\n",
    "\n",
    "# Titles and labels\n",
    "plt.title(\"Relationship between Log-Transformed Distance to MRT and House Price\")\n",
    "plt.xlabel(\"Log-Transformed Distance to MRT (X3_log)\")\n",
    "plt.ylabel(\"House Price per Unit Area (Y)\")\n"
   ]
  },
  {
   "cell_type": "code",
   "execution_count": null,
   "metadata": {},
   "outputs": [],
   "source": [
    "# Scatter plot with regression line\n",
    "plt.figure(figsize=(8, 6))\n",
    "sns.regplot(x=df[\"X3 distance to the nearest MRT station\"], y=df[\"Y house price of unit area\"], scatter_kws={\"alpha\": 0.5}, line_kws={\"color\": \"red\"})\n",
    "\n",
    "# Titles and labels\n",
    "plt.title(\"Relationship between X3 distance to the nearest MRT station and House Price\")\n",
    "plt.xlabel(\"X3 Distance to MRT (X3_log)\")\n",
    "plt.ylabel(\"House Price per Unit Area (Y)\")\n"
   ]
  },
  {
   "cell_type": "code",
   "execution_count": null,
   "metadata": {},
   "outputs": [],
   "source": [
    "# Scatter plot with regression line\n",
    "plt.figure(figsize=(8, 6))\n",
    "sns.regplot(x=df[\"X3_log\"], y=df[\"Y house price of unit area\"], scatter_kws={\"alpha\": 0.5}, line_kws={\"color\": \"red\"})\n",
    "\n",
    "# Titles and labels\n",
    "plt.title(\"Relationship between Log-Transformed Distance to MRT and House Price\")\n",
    "plt.xlabel(\"Log-Transformed Distance to MRT (X3_log)\")\n",
    "plt.ylabel(\"House Price per Unit Area (Y)\")\n"
   ]
  },
  {
   "cell_type": "code",
   "execution_count": null,
   "metadata": {},
   "outputs": [],
   "source": [
    "\n",
    "\n",
    "# List of features to analyze\n",
    "features = ['X2 house age', 'X4 number of convenience stores']\n",
    "\n",
    "# Plot histograms and boxplots\n",
    "for feature in features:\n",
    "    fig, axes = plt.subplots(1, 2, figsize=(12, 4))\n",
    "\n",
    "    # Histogram with KDE\n",
    "    sns.histplot(data[feature], kde=True, bins=30, ax=axes[0])\n",
    "    axes[0].set_title(f\"Distribution of {feature}\")\n",
    "\n",
    "    # Boxplot\n",
    "    sns.boxplot(x=data[feature], ax=axes[1])\n",
    "    axes[1].set_title(f\"Boxplot of {feature}\")\n",
    "\n",
    "    plt.show()\n"
   ]
  },
  {
   "cell_type": "code",
   "execution_count": null,
   "metadata": {},
   "outputs": [],
   "source": [
    "df[['X4 number of convenience stores', 'Y house price of unit area']].corr()\n"
   ]
  },
  {
   "cell_type": "code",
   "execution_count": null,
   "metadata": {},
   "outputs": [],
   "source": [
    "# Scatter plot with regression line\n",
    "plt.figure(figsize=(8, 6))\n",
    "sns.regplot(x=df[\"X4 number of convenience stores\"], y=df[\"Y house price of unit area\"], scatter_kws={\"alpha\": 0.5}, line_kws={\"color\": \"red\"})\n",
    "\n",
    "# Titles and labels\n",
    "plt.title(\"Relationship between X4 number of convenience stores and House Price\")\n",
    "plt.xlabel(\"X4 number of convenience stores\")\n",
    "plt.ylabel(\"House Price per Unit Area (Y)\")\n"
   ]
  },
  {
   "cell_type": "code",
   "execution_count": null,
   "metadata": {},
   "outputs": [],
   "source": [
    "# Multicollineaity check\n",
    "# Compute correlation matrix\n",
    "corr_matrix = X.corr()\n",
    "\n",
    "# Plot the heatmap\n",
    "plt.figure(figsize=(8,6))\n",
    "sns.heatmap(corr_matrix, annot=True, cmap=\"coolwarm\", linewidths=0.5)\n",
    "plt.title(\"Feature Correlation Matrix\")\n",
    "plt.show()\n"
   ]
  },
  {
   "cell_type": "code",
   "execution_count": null,
   "metadata": {},
   "outputs": [],
   "source": [
    "\n",
    "\n",
    "# Create a dataframe for VIF\n",
    "vif_data = pd.DataFrame()\n",
    "vif_data[\"Feature\"] = X.columns\n",
    "vif_data[\"VIF\"] = [variance_inflation_factor(X.values, i) for i in range(X.shape[1])]\n",
    "\n",
    "print(vif_data)\n"
   ]
  },
  {
   "cell_type": "code",
   "execution_count": null,
   "metadata": {},
   "outputs": [],
   "source": [
    "X_location = df[['X5 latitude', 'X6 longitude']]"
   ]
  },
  {
   "cell_type": "code",
   "execution_count": null,
   "metadata": {},
   "outputs": [],
   "source": [
    "pca = PCA(n_components=1)  # Reduce to 1 component\n",
    "df['PCA_Location'] = pca.fit_transform(X_location)"
   ]
  },
  {
   "cell_type": "code",
   "execution_count": null,
   "metadata": {},
   "outputs": [],
   "source": [
    "df = df.drop(['X5 latitude', 'X6 longitude'], axis=1)\n"
   ]
  },
  {
   "cell_type": "code",
   "execution_count": null,
   "metadata": {},
   "outputs": [],
   "source": [
    "from statsmodels.stats.outliers_influence import variance_inflation_factor\n",
    "\n",
    "X_new = df.drop(columns=['Y house price of unit area'])  # Exclude target variable\n",
    "\n",
    "vif_data = pd.DataFrame()\n",
    "vif_data[\"Feature\"] = X_new.columns\n",
    "vif_data[\"VIF\"] = [variance_inflation_factor(X_new.values, i) for i in range(X_new.shape[1])]\n",
    "\n",
    "print(vif_data)\n"
   ]
  },
  {
   "cell_type": "code",
   "execution_count": null,
   "metadata": {},
   "outputs": [],
   "source": [
    "df['X1_year'] = df['X1 transaction date'].astype(int)  # Extract the integer year\n",
    "df['X1_fraction'] = df['X1 transaction date'] - df['X1_year']  # Extract decimal part\n",
    "\n",
    "# Convert fraction to months and assign quarters\n",
    "df['X1_month'] = (df['X1_fraction'] * 12).round().astype(int)  # Convert fraction to month\n",
    "df['X1_quarter'] = ((df['X1_month'] - 1) // 3 + 1)  # Convert month to quarter\n",
    "\n",
    "df.drop(columns=['X1 transaction date', 'X1_fraction'], inplace=True)  # Drop unnecessary columns\n"
   ]
  },
  {
   "cell_type": "code",
   "execution_count": null,
   "metadata": {},
   "outputs": [],
   "source": [
    "df.info()"
   ]
  },
  {
   "cell_type": "code",
   "execution_count": null,
   "metadata": {},
   "outputs": [],
   "source": [
    "X_new = df.drop(columns=['Y house price of unit area'])  # Exclude target variable\n",
    "\n",
    "vif_data = pd.DataFrame()\n",
    "vif_data[\"Feature\"] = X_new.columns\n",
    "vif_data[\"VIF\"] = [variance_inflation_factor(X_new.values, i) for i in range(X_new.shape[1])]\n",
    "\n",
    "print(vif_data)\n"
   ]
  },
  {
   "cell_type": "code",
   "execution_count": null,
   "metadata": {},
   "outputs": [],
   "source": [
    "df.drop(columns=['X1_month', 'X1_quarter'], inplace=True)\n"
   ]
  },
  {
   "cell_type": "code",
   "execution_count": null,
   "metadata": {},
   "outputs": [],
   "source": [
    "X_new = df.drop(columns=['Y house price of unit area'])  # Exclude target variable\n",
    "\n",
    "vif_data = pd.DataFrame()\n",
    "vif_data[\"Feature\"] = X_new.columns\n",
    "vif_data[\"VIF\"] = [variance_inflation_factor(X_new.values, i) for i in range(X_new.shape[1])]\n",
    "\n",
    "print(vif_data)"
   ]
  },
  {
   "cell_type": "code",
   "execution_count": null,
   "metadata": {},
   "outputs": [],
   "source": [
    "df.info()"
   ]
  },
  {
   "cell_type": "code",
   "execution_count": null,
   "metadata": {},
   "outputs": [],
   "source": [
    "\n",
    "# Select latitude & longitude columns\n",
    "location_features = df[['X5 latitude', 'X6 longitude']]\n",
    "\n",
    "# Perform PCA (reduce to 1 component)\n",
    "pca = PCA(n_components=1)\n",
    "df['PCA_Location'] = pca.fit_transform(location_features)\n"
   ]
  },
  {
   "cell_type": "code",
   "execution_count": null,
   "metadata": {},
   "outputs": [],
   "source": [
    "df.info()"
   ]
  },
  {
   "cell_type": "code",
   "execution_count": null,
   "metadata": {},
   "outputs": [],
   "source": [
    "df['X1_year'] = df['X1 transaction date'].astype(str).str[:4].astype(int)\n"
   ]
  },
  {
   "cell_type": "code",
   "execution_count": null,
   "metadata": {},
   "outputs": [],
   "source": [
    "df.info()"
   ]
  },
  {
   "cell_type": "code",
   "execution_count": null,
   "metadata": {},
   "outputs": [],
   "source": [
    "\n",
    "# Define features and target\n",
    "X = df[['X2 house age', 'X3 distance to the nearest MRT station', 'X4 number of convenience stores', 'PCA_Location', 'X1_year']]\n",
    "y = df['Y house price of unit area']\n",
    "\n",
    "# Split dataset\n",
    "X_train, X_test, y_train, y_test = train_test_split(X, y, test_size=0.2, random_state=42)\n",
    "\n",
    "# Train model\n",
    "model = LinearRegression()\n",
    "model.fit(X_train, y_train)\n",
    "\n",
    "# Predictions\n",
    "y_pred = model.predict(X_test)\n",
    "\n",
    "# Performance Metrics\n",
    "r2 = r2_score(y_test, y_pred)\n",
    "rmse = mean_squared_error(y_test, y_pred, squared=False)\n",
    "\n",
    "print(f\"With X1_year -> R²: {r2:.4f}, RMSE: {rmse:.4f}\")\n"
   ]
  },
  {
   "cell_type": "code",
   "execution_count": null,
   "metadata": {},
   "outputs": [],
   "source": [
    "# Define features excluding X1_year\n",
    "X_baseline = df[['X2 house age', 'X3 distance to the nearest MRT station', 'X4 number of convenience stores', 'PCA_Location']]\n",
    "y = df['Y house price of unit area']\n",
    "\n",
    "# Split dataset\n",
    "X_train, X_test, y_train, y_test = train_test_split(X_baseline, y, test_size=0.2, random_state=42)\n",
    "\n",
    "# Train model\n",
    "model_baseline = LinearRegression()\n",
    "model_baseline.fit(X_train, y_train)\n",
    "\n",
    "# Evaluate\n",
    "y_pred_baseline = model_baseline.predict(X_test)\n",
    "r2_baseline = r2_score(y_test, y_pred_baseline)\n",
    "rmse_baseline = mean_squared_error(y_test, y_pred_baseline, squared=False)\n",
    "\n",
    "print(f\"Without X1_year -> R²: {r2_baseline:.4f}, RMSE: {rmse_baseline:.4f}\")\n"
   ]
  },
  {
   "cell_type": "code",
   "execution_count": null,
   "metadata": {},
   "outputs": [],
   "source": [
    "feature_names = X.columns\n",
    "coefficients = model.coef_\n",
    "for name, coef in zip(feature_names, coefficients):\n",
    "    print(f\"{name}: {coef:.4f}\")\n"
   ]
  },
  {
   "cell_type": "code",
   "execution_count": null,
   "metadata": {},
   "outputs": [],
   "source": [
    "\n",
    "residuals = y_test - y_pred\n",
    "sns.histplot(residuals, kde=True)\n",
    "plt.xlabel(\"Residuals\")\n",
    "plt.title(\"Residuals Distribution\")\n",
    "plt.show()\n"
   ]
  },
  {
   "cell_type": "code",
   "execution_count": null,
   "metadata": {},
   "outputs": [],
   "source": [
    "\n",
    "# Select numerical columns for visualization\n",
    "selected_features = ['X2 house age', 'X3 distance to the nearest MRT station', \n",
    "                     'X4 number of convenience stores', 'PCA_Location', 'X1_year', 'Y house price of unit area']\n",
    "\n",
    "# Pairplot to see feature-target relationships\n",
    "sns.pairplot(df[selected_features])\n",
    "plt.show()\n"
   ]
  },
  {
   "cell_type": "code",
   "execution_count": null,
   "metadata": {},
   "outputs": [],
   "source": [
    "\n",
    "\n",
    "# Compute correlation matrix\n",
    "corr_matrix = df[selected_features].corr()\n",
    "\n",
    "# Plot heatmap\n",
    "plt.figure(figsize=(8,6))\n",
    "sns.heatmap(corr_matrix, annot=True, cmap='coolwarm', fmt=\".2f\")\n",
    "plt.title(\"Feature-Target Correlation Heatmap\")\n",
    "plt.show()\n"
   ]
  },
  {
   "cell_type": "code",
   "execution_count": null,
   "metadata": {},
   "outputs": [],
   "source": [
    "df.info()\n"
   ]
  },
  {
   "cell_type": "code",
   "execution_count": null,
   "metadata": {},
   "outputs": [],
   "source": [
    "df[\"X3_log\"] = np.log1p(df[\"X3 distance to the nearest MRT station\"])\n",
    "df.to_csv(\"modified_data.csv\", index=False)  # Save to verify changes persist\n"
   ]
  },
  {
   "cell_type": "code",
   "execution_count": null,
   "metadata": {},
   "outputs": [],
   "source": [
    "df = pd.read_csv(\"modified_data.csv\")\n",
    "df.info()\n"
   ]
  },
  {
   "cell_type": "code",
   "execution_count": null,
   "metadata": {},
   "outputs": [],
   "source": [
    "# Select numerical columns for visualization\n",
    "selected_features = ['X2 house age', 'X3 distance to the nearest MRT station', \n",
    "                     'X4 number of convenience stores', 'PCA_Location', 'X1_year', 'X3_log','Y house price of unit area']\n",
    "\n",
    "# Pairplot to see feature-target relationships\n",
    "sns.pairplot(df[selected_features])\n",
    "plt.show()\n"
   ]
  },
  {
   "cell_type": "code",
   "execution_count": null,
   "metadata": {},
   "outputs": [],
   "source": [
    "# Compute correlation matrix\n",
    "corr_matrix = df[selected_features].corr()\n",
    "\n",
    "# Plot heatmap\n",
    "plt.figure(figsize=(8,6))\n",
    "sns.heatmap(corr_matrix, annot=True, cmap='coolwarm', fmt=\".2f\")\n",
    "plt.title(\"Feature-Target Correlation Heatmap\")\n",
    "plt.show()\n"
   ]
  },
  {
   "cell_type": "code",
   "execution_count": null,
   "metadata": {},
   "outputs": [],
   "source": [
    "\n",
    "\n",
    "# Selecting relevant numerical predictors\n",
    "X = df[[\"X2 house age\", \"X3 distance to the nearest MRT station\", \"X4 number of convenience stores\", \n",
    "        \"PCA_Location\", \"X1_year\", \"X3_log\"]]\n",
    "\n",
    "# Compute VIF for each feature\n",
    "vif_data = pd.DataFrame()\n",
    "vif_data[\"Feature\"] = X.columns\n",
    "vif_data[\"VIF\"] = [variance_inflation_factor(X.values, i) for i in range(len(X.columns))]\n",
    "\n",
    "print(vif_data)\n"
   ]
  },
  {
   "cell_type": "code",
   "execution_count": null,
   "metadata": {},
   "outputs": [],
   "source": [
    "\n",
    "# Drop X3 distance to the MRT station\n",
    "df_vif = df.drop(columns=[\"X3 distance to the nearest MRT station\"])\n",
    "\n",
    "\n",
    "# Recalculate VIF\n",
    "vif_data = pd.DataFrame()\n",
    "vif_data[\"Feature\"] = df_vif.columns\n",
    "vif_data[\"VIF\"] = [variance_inflation_factor(df_vif.values, i) for i in range(len(df_vif.columns))]\n",
    "\n",
    "print(vif_data)\n"
   ]
  },
  {
   "cell_type": "code",
   "execution_count": null,
   "metadata": {},
   "outputs": [],
   "source": [
    "# Drop X3 distance to the MRT station\n",
    "df_vif = df.drop(columns=[\"X5 latitude\", \"X6 longitude\",\"X1_year\",\"X1 transaction date\",\"X3_log\"])\n",
    "\n",
    "# Recalculate VIF\n",
    "vif_data = pd.DataFrame()\n",
    "vif_data[\"Feature\"] = df_vif.columns\n",
    "vif_data[\"VIF\"] = [variance_inflation_factor(df_vif.values, i) for i in range(len(df_vif.columns))]\n",
    "\n",
    "print(vif_data)\n"
   ]
  },
  {
   "cell_type": "code",
   "execution_count": null,
   "metadata": {},
   "outputs": [],
   "source": [
    "import seaborn as sns\n",
    "import matplotlib.pyplot as plt\n",
    "\n",
    "# Select relevant features for pairplot\n",
    "selected_features = [\"X2 house age\", \"X3 distance to the nearest MRT station\", \n",
    "                     \"X4 number of convenience stores\", \"PCA_Location\", \n",
    "                     \"Y house price of unit area\"]\n",
    "\n",
    "# Create pairplot\n",
    "sns.pairplot(df[selected_features], diag_kind='kde')\n",
    "plt.show()\n"
   ]
  },
  {
   "cell_type": "code",
   "execution_count": null,
   "metadata": {},
   "outputs": [],
   "source": [
    "df['PCA_Location'] = pca.transform(df[['X5 latitude', 'X6 longitude']])\n"
   ]
  },
  {
   "cell_type": "code",
   "execution_count": null,
   "metadata": {},
   "outputs": [],
   "source": [
    "\n",
    "from scipy.stats import boxcox\n",
    "\n",
    "# Assuming your dataset is named 'df' and 'X3' is the original variable\n",
    "\n",
    "# Apply different transformations\n",
    "df['X3_sqrt'] = np.sqrt(df['X3 distance to the nearest MRT station'])   # Square Root Transformation\n",
    "df['X3_inv'] = 1 / (df['X3 distance to the nearest MRT station'] + 1)   # Inverse Transformation (Avoid division by zero)\n",
    "\n",
    "# Box-Cox transformation (only if X3 is strictly positive)\n",
    "df['X3_boxcox'], _ = boxcox(df['X3 distance to the nearest MRT station'] + 1)\n",
    "\n",
    "# Select features for VIF calculation (update according to your dataset)\n",
    "features = ['X2 house age', 'X3_sqrt', 'X3_inv', 'X3_boxcox', 'X4 number of convenience stores', 'PCA_Location', 'Y house price of unit area']\n",
    "\n",
    "# Create a new DataFrame with selected features\n",
    "df_vif = df[features]\n",
    "\n",
    "# Compute VIF\n",
    "vif_data = pd.DataFrame()\n",
    "vif_data[\"Feature\"] = df_vif.columns\n",
    "vif_data[\"VIF\"] = [variance_inflation_factor(df_vif.values, i) for i in range(df_vif.shape[1])]\n",
    "\n",
    "# Display the VIF values\n",
    "print(vif_data)\n"
   ]
  },
  {
   "cell_type": "code",
   "execution_count": null,
   "metadata": {},
   "outputs": [],
   "source": [
    "df.columns"
   ]
  },
  {
   "cell_type": "code",
   "execution_count": null,
   "metadata": {},
   "outputs": [],
   "source": [
    "df_vif = df.drop(columns=[\"X3_boxcox\"])\n",
    "\n",
    "# Recalculate VIF\n",
    "vif_data = pd.DataFrame()\n",
    "vif_data[\"Feature\"] = df_vif.columns\n",
    "vif_data[\"VIF\"] = [variance_inflation_factor(df_vif.values, i) for i in range(len(df_vif.columns))]\n",
    "\n",
    "print(vif_data)"
   ]
  },
  {
   "cell_type": "code",
   "execution_count": null,
   "metadata": {},
   "outputs": [],
   "source": [
    "from scipy.stats import boxcox\n",
    "\n",
    "# Assuming your dataset is named 'df' and 'X3' is the original variable\n",
    "\n",
    "# Apply different transformations\n",
    "df['X3_sqrt'] = np.sqrt(df['X3 distance to the nearest MRT station'])   # Square Root Transformation\n",
    "df['X3_inv'] = 1 / (df['X3 distance to the nearest MRT station'] + 1)   # Inverse Transformation (Avoid division by zero)\n",
    "\n",
    "# Box-Cox transformation (only if X3 is strictly positive)\n",
    "df['X3_boxcox'], _ = boxcox(df['X3 distance to the nearest MRT station'] + 1)\n",
    "\n",
    "# Select features for VIF calculation (update according to your dataset)\n",
    "features = ['X2 house age', 'X3_sqrt', 'X3_inv', 'X4 number of convenience stores', 'PCA_Location', 'Y house price of unit area']\n",
    "\n",
    "# Create a new DataFrame with selected features\n",
    "df_vif = df[features]\n",
    "\n",
    "# Compute VIF\n",
    "vif_data = pd.DataFrame()\n",
    "vif_data[\"Feature\"] = df_vif.columns\n",
    "vif_data[\"VIF\"] = [variance_inflation_factor(df_vif.values, i) for i in range(df_vif.shape[1])]\n",
    "\n",
    "# Display the VIF values\n",
    "print(vif_data)\n"
   ]
  },
  {
   "cell_type": "code",
   "execution_count": null,
   "metadata": {},
   "outputs": [],
   "source": [
    "# Compute correlation matrix\n",
    "corr_matrix = df[features].corr()\n",
    "\n",
    "# Plot heatmap\n",
    "plt.figure(figsize=(8,6))\n",
    "sns.heatmap(corr_matrix, annot=True, cmap='coolwarm', fmt=\".2f\")\n",
    "plt.title(\"Feature-Target Correlation Heatmap\")\n",
    "plt.show()\n"
   ]
  },
  {
   "cell_type": "code",
   "execution_count": null,
   "metadata": {},
   "outputs": [],
   "source": [
    "df_refined = df_vif.drop(columns=['X3_sqrt'])\n"
   ]
  },
  {
   "cell_type": "code",
   "execution_count": null,
   "metadata": {},
   "outputs": [],
   "source": [
    "df_refined.info()"
   ]
  },
  {
   "cell_type": "code",
   "execution_count": null,
   "metadata": {},
   "outputs": [],
   "source": [
    "from statsmodels.stats.outliers_influence import variance_inflation_factor\n",
    "\n",
    "# Define the features for VIF calculation\n",
    "features = ['X2 house age', 'X3_inv', 'X4 number of convenience stores', 'PCA_Location', 'Y house price of unit area']\n",
    "df_vif = df_refined[features]\n",
    "\n",
    "# Compute VIF\n",
    "vif_data = pd.DataFrame()\n",
    "vif_data['Feature'] = df_vif.columns\n",
    "vif_data['VIF'] = [variance_inflation_factor(df_vif.values, i) for i in range(df_vif.shape[1])]\n",
    "\n",
    "print(vif_data)\n"
   ]
  },
  {
   "cell_type": "code",
   "execution_count": null,
   "metadata": {},
   "outputs": [],
   "source": []
  }
 ],
 "metadata": {
  "kernelspec": {
   "display_name": "Pytorch",
   "language": "python",
   "name": "python3"
  },
  "language_info": {
   "codemirror_mode": {
    "name": "ipython",
    "version": 3
   },
   "file_extension": ".py",
   "mimetype": "text/x-python",
   "name": "python",
   "nbconvert_exporter": "python",
   "pygments_lexer": "ipython3",
   "version": "3.10.11"
  }
 },
 "nbformat": 4,
 "nbformat_minor": 2
}
